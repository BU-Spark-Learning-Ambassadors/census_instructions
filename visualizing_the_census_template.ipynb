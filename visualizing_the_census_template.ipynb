{
  "cells": [
    {
      "cell_type": "markdown",
      "metadata": {
        "id": "YY_MeNxqHlIB"
      },
      "source": [
        "Simple python data visualization using Census data:\n",
        "\n"
      ]
    },
    {
      "cell_type": "markdown",
      "metadata": {
        "id": "qoQnZrnRNmId"
      },
      "source": [
        "read this tech talk to get a better background! https://colab.research.google.com/drive/1toyFvFZx0Qlj3uW_HyTrHrC3jfy1EmeB?usp=sharing#scrollTo=kmhW5vBrUBu1\n"
      ]
    },
    {
      "cell_type": "markdown",
      "metadata": {
        "id": "w_jjo8LnHqYv"
      },
      "source": [
        "Part A: Introduction to Python and Libraries"
      ]
    },
    {
      "cell_type": "code",
      "execution_count": null,
      "metadata": {
        "colab": {
          "base_uri": "https://localhost:8080/"
        },
        "id": "e8uKo1m8Hwlt",
        "outputId": "e1ec7c0f-3236-4ef4-f564-17495adb99cb"
      },
      "outputs": [
        {
          "name": "stdout",
          "output_type": "stream",
          "text": [
            "Welcome to our Census Data Challenge!\n",
            "We will use libraries such as pandas for data manipulation, matplotlib for data visualization, and requests to fetch data from the Census API.\n"
          ]
        }
      ],
      "source": [
        "print(\"Welcome to our Census Data Challenge!\")\n",
        "print(\"We will use libraries such as pandas for data manipulation, matplotlib for data visualization, and requests to fetch data from the Census API.\")\n"
      ]
    },
    {
      "cell_type": "markdown",
      "metadata": {
        "id": "0EoFL4pTICgr"
      },
      "source": [
        "Part B:  Install and Import Libraries.\n",
        "Hint: use the print statements to help you import the correct libraries!"
      ]
    },
    {
      "cell_type": "code",
      "execution_count": null,
      "metadata": {
        "id": "XOqBdg-rITRv"
      },
      "outputs": [],
      "source": [
        "# add your code here (only need 3 libraries for this challenge, you are more than welcome to add more :)\n",
        "import\n",
        "import\n",
        "import\n"
      ]
    },
    {
      "cell_type": "markdown",
      "metadata": {
        "id": "XrraVtOFIiYm"
      },
      "source": [
        "Part C: Fetch Census Data, fetch a simple dataset from the Census API. for example you could do: population data by race for Massachusetts."
      ]
    },
    {
      "cell_type": "markdown",
      "metadata": {
        "id": "WSGY579aM3rv"
      },
      "source": [
        "hint: there's multiple ways to load external data in here, here's a document that will help you:https://towardsdatascience.com/7-ways-to-load-external-data-into-google-colab-7ba73e7d5fc7\n"
      ]
    },
    {
      "cell_type": "code",
      "execution_count": null,
      "metadata": {
        "id": "rhtoAhJoI7WS"
      },
      "outputs": [],
      "source": [
        "# Set Variables\n",
        "\n",
        "\n",
        "# Specify Data Columns\n",
        "\n",
        "\n",
        "# Check if the response was successful\n"
      ]
    },
    {
      "cell_type": "markdown",
      "metadata": {
        "id": "niI0aXusJehh"
      },
      "source": [
        "Part D: Convert Data to DataFrame and Clean"
      ]
    },
    {
      "cell_type": "code",
      "execution_count": null,
      "metadata": {
        "id": "HCBqveBMJko-"
      },
      "outputs": [],
      "source": [
        "# Convert to DataFrame\n",
        "\n",
        "# Convert numeric columns to integers\n",
        "\n",
        "# Rename columns for better understanding\n",
        "\n",
        "# Display the cleaned data\n"
      ]
    },
    {
      "cell_type": "markdown",
      "metadata": {
        "id": "c3rTQveCJxAS"
      },
      "source": [
        "Part E:Create a Bar Chart, (You are more than welcome to try others visualization Methods)"
      ]
    },
    {
      "cell_type": "code",
      "execution_count": null,
      "metadata": {
        "id": "1WB7JlL4KAqm"
      },
      "outputs": [],
      "source": [
        "# Set the aesthetic style of the plots\n",
        "\n",
        "# Create Bar Chart\n",
        "\n",
        "# Set Titles and Labels\n",
        "\n",
        "# Show Plot\n"
      ]
    },
    {
      "cell_type": "markdown",
      "metadata": {
        "id": "q21R57XUO_O3"
      },
      "source": [
        "Extra: try to make a pie chart!\n",
        "Now that you have this knowledge try a different state"
      ]
    },
    {
      "cell_type": "code",
      "execution_count": null,
      "metadata": {},
      "outputs": [],
      "source": [
        "# assign column names\n",
        "# use data from our data\n",
        "\n",
        "# Create a pie chart\n",
        "\n",
        "# Add a title\n",
        "\n",
        "# Display the chart\n"
      ]
    },
    {
      "cell_type": "markdown",
      "metadata": {
        "id": "hJyaSzerKKpl"
      },
      "source": [
        "Step F: Conclude the tutorial by summarizing what was done!"
      ]
    },
    {
      "cell_type": "code",
      "execution_count": null,
      "metadata": {
        "id": "bFHAIlnXKSLO"
      },
      "outputs": [],
      "source": [
        "print(\"Congratulations! You've successfully fetched, cleaned, and visualized Census data using Python.\")\n"
      ]
    }
  ],
  "metadata": {
    "colab": {
      "provenance": []
    },
    "kernelspec": {
      "display_name": "Python 3",
      "name": "python3"
    },
    "language_info": {
      "name": "python"
    }
  },
  "nbformat": 4,
  "nbformat_minor": 0
}
